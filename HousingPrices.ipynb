{
  "nbformat": 4,
  "nbformat_minor": 0,
  "metadata": {
    "colab": {
      "provenance": [],
      "gpuType": "T4"
    },
    "kernelspec": {
      "name": "python3",
      "display_name": "Python 3"
    },
    "language_info": {
      "name": "python"
    }
  },
  "cells": [
    {
      "cell_type": "markdown",
      "source": [
        "## **Predicting Housing prices using Advanced Regression Techniques**"
      ],
      "metadata": {
        "id": "cGGLGJbl16DF"
      }
    },
    {
      "cell_type": "code",
      "execution_count": 1,
      "metadata": {
        "id": "mUt8L5g3JAx4"
      },
      "outputs": [],
      "source": [
        "import torch\n",
        "from torch import nn\n",
        "from torch import optim\n",
        "import pandas as pd\n",
        "import matplotlib.pyplot as plt\n",
        "import seaborn as sb\n",
        "import numpy as np\n",
        "import warnings\n",
        "warnings.simplefilter(action='ignore', category=FutureWarning)\n",
        "from sklearn.model_selection import train_test_split\n",
        "from torch.utils.data import DataLoader, TensorDataset"
      ]
    },
    {
      "cell_type": "markdown",
      "source": [
        "## Setting up device agnostic code"
      ],
      "metadata": {
        "id": "YOFcD9Hb3dvC"
      }
    },
    {
      "cell_type": "code",
      "source": [
        "device = \"cuda\" if torch.cuda.is_available() else \"cpu\"\n",
        "print(f\"Using: {device}\\n\")"
      ],
      "metadata": {
        "colab": {
          "base_uri": "https://localhost:8080/"
        },
        "id": "gLu7cO4TJbkt",
        "outputId": "b55780aa-c9a4-428e-8c8e-ec0f7abedee2"
      },
      "execution_count": 2,
      "outputs": [
        {
          "output_type": "stream",
          "name": "stdout",
          "text": [
            "Using: cpu\n",
            "\n"
          ]
        }
      ]
    },
    {
      "cell_type": "markdown",
      "source": [
        "## Visualize the data"
      ],
      "metadata": {
        "id": "zLT1tk884XFd"
      }
    },
    {
      "cell_type": "markdown",
      "source": [
        "\n",
        "\n",
        "1.   Check for number of Null data in every column.\n",
        "2.   Columns that have more than a 1000 Null data will be removed."
      ],
      "metadata": {
        "id": "_eU5eeWJ5EYN"
      }
    },
    {
      "cell_type": "code",
      "source": [
        "train_data = pd.read_csv(\"train.csv\")\n",
        "print(train_data.isnull().sum().to_string())\n",
        "print(f\"\\nData shape: {train_data.shape}\")"
      ],
      "metadata": {
        "colab": {
          "base_uri": "https://localhost:8080/"
        },
        "id": "bzjiVgT-3luh",
        "outputId": "46541b70-c48e-4fd5-8949-e42284e63e87"
      },
      "execution_count": 3,
      "outputs": [
        {
          "output_type": "stream",
          "name": "stdout",
          "text": [
            "Id                  0\n",
            "MSSubClass          0\n",
            "MSZoning            0\n",
            "LotFrontage       259\n",
            "LotArea             0\n",
            "Street              0\n",
            "Alley            1369\n",
            "LotShape            0\n",
            "LandContour         0\n",
            "Utilities           0\n",
            "LotConfig           0\n",
            "LandSlope           0\n",
            "Neighborhood        0\n",
            "Condition1          0\n",
            "Condition2          0\n",
            "BldgType            0\n",
            "HouseStyle          0\n",
            "OverallQual         0\n",
            "OverallCond         0\n",
            "YearBuilt           0\n",
            "YearRemodAdd        0\n",
            "RoofStyle           0\n",
            "RoofMatl            0\n",
            "Exterior1st         0\n",
            "Exterior2nd         0\n",
            "MasVnrType          8\n",
            "MasVnrArea          8\n",
            "ExterQual           0\n",
            "ExterCond           0\n",
            "Foundation          0\n",
            "BsmtQual           37\n",
            "BsmtCond           37\n",
            "BsmtExposure       38\n",
            "BsmtFinType1       37\n",
            "BsmtFinSF1          0\n",
            "BsmtFinType2       38\n",
            "BsmtFinSF2          0\n",
            "BsmtUnfSF           0\n",
            "TotalBsmtSF         0\n",
            "Heating             0\n",
            "HeatingQC           0\n",
            "CentralAir          0\n",
            "Electrical          1\n",
            "1stFlrSF            0\n",
            "2ndFlrSF            0\n",
            "LowQualFinSF        0\n",
            "GrLivArea           0\n",
            "BsmtFullBath        0\n",
            "BsmtHalfBath        0\n",
            "FullBath            0\n",
            "HalfBath            0\n",
            "BedroomAbvGr        0\n",
            "KitchenAbvGr        0\n",
            "KitchenQual         0\n",
            "TotRmsAbvGrd        0\n",
            "Functional          0\n",
            "Fireplaces          0\n",
            "FireplaceQu       690\n",
            "GarageType         81\n",
            "GarageYrBlt        81\n",
            "GarageFinish       81\n",
            "GarageCars          0\n",
            "GarageArea          0\n",
            "GarageQual         81\n",
            "GarageCond         81\n",
            "PavedDrive          0\n",
            "WoodDeckSF          0\n",
            "OpenPorchSF         0\n",
            "EnclosedPorch       0\n",
            "3SsnPorch           0\n",
            "ScreenPorch         0\n",
            "PoolArea            0\n",
            "PoolQC           1453\n",
            "Fence            1179\n",
            "MiscFeature      1406\n",
            "MiscVal             0\n",
            "MoSold              0\n",
            "YrSold              0\n",
            "SaleType            0\n",
            "SaleCondition       0\n",
            "SalePrice           0\n",
            "\n",
            "Data shape: (1460, 81)\n"
          ]
        }
      ]
    },
    {
      "cell_type": "markdown",
      "source": [
        "3.   Check distribution of target values"
      ],
      "metadata": {
        "id": "IeZcYKDb7tMp"
      }
    },
    {
      "cell_type": "code",
      "source": [
        "sb.histplot(train_data['SalePrice'], kde=True)"
      ],
      "metadata": {
        "colab": {
          "base_uri": "https://localhost:8080/",
          "height": 466
        },
        "id": "C459rTA-XkVA",
        "outputId": "0bcd0d69-fbdc-41ee-d87a-5b4ae21b2a51"
      },
      "execution_count": 4,
      "outputs": [
        {
          "output_type": "execute_result",
          "data": {
            "text/plain": [
              "<Axes: xlabel='SalePrice', ylabel='Count'>"
            ]
          },
          "metadata": {},
          "execution_count": 4
        },
        {
          "output_type": "display_data",
          "data": {
            "text/plain": [
              "<Figure size 640x480 with 1 Axes>"
            ],
            "image/png": "[encoded data removed]"
          },
          "metadata": {}
        }
      ]
    },
    {
      "cell_type": "markdown",
      "source": [
        "\n",
        "\n",
        "*   From the above graph we can infer that out target values are positively skewed, this may lead to misleading results.\n",
        "*   We will apply log transformation on the data to transform into a normal distribution.\n",
        "\n"
      ],
      "metadata": {
        "id": "urvN49uA4jPB"
      }
    },
    {
      "cell_type": "markdown",
      "source": [
        "## Cleaning the data\n",
        "\n",
        "\n",
        "\n",
        "\n",
        "*   The function cleanData prepares our data for processing.\n",
        "*   It preforms the following actions on the data:\n",
        "> 1.  Drops Columns that have more that a 1000 missing data along with the \"Id\", \"SalesPrice\" columns.\n",
        "\n",
        "  > 2.  Applies Z-score normalization and replaces Null data with the mean for all columns with numeric data.\n",
        "\n",
        "\n",
        "\n",
        "\n",
        "\n"
      ],
      "metadata": {
        "id": "upQLbAgt9Kb3"
      }
    },
    {
      "cell_type": "code",
      "source": [
        "def cleanData(data = train_data):\n",
        "    data = data.drop(columns=[\"Id\",\"Alley\", \"PoolQC\", \"Fence\", \"MiscFeature\", \"SalePrice\"], errors='ignore', axis=1)\n",
        "\n",
        "    num_cols = data.select_dtypes(np.number).columns\n",
        "    cat_cols = data.select_dtypes(include=['object']).columns\n",
        "\n",
        "    data_cat = pd.get_dummies(data[cat_cols], dummy_na=True)\n",
        "    data_num = data[num_cols].apply(lambda x: (x - x.mean()) / (x.std()))\n",
        "    mean = data_num.mean(axis=0)\n",
        "    data_num = data_num.fillna(mean)\n",
        "\n",
        "    data = pd.concat([data_num, data_cat], axis=1)\n",
        "\n",
        "    return data"
      ],
      "metadata": {
        "id": "-N60pgkh9Amw"
      },
      "execution_count": 5,
      "outputs": []
    },
    {
      "cell_type": "code",
      "source": [
        "y_data = train_data[\"SalePrice\"].copy()\n",
        "X_data = cleanData()\n",
        "y_data = np.log(y_data, where=y_data != 0)        # log transformation\n",
        "sb.histplot(y_data, kde=True)"
      ],
      "metadata": {
        "colab": {
          "base_uri": "https://localhost:8080/",
          "height": 466
        },
        "id": "FSH0vBeK9Jf4",
        "outputId": "5cfead5b-7d90-4cc8-c85d-cc312b6fe205"
      },
      "execution_count": 6,
      "outputs": [
        {
          "output_type": "execute_result",
          "data": {
            "text/plain": [
              "<Axes: xlabel='SalePrice', ylabel='Count'>"
            ]
          },
          "metadata": {},
          "execution_count": 6
        },
        {
          "output_type": "display_data",
          "data": {
            "text/plain": [
              "<Figure size 640x480 with 1 Axes>"
            ],
            "image/png": "[encoded data removed]"
          },
          "metadata": {}
        }
      ]
    },
    {
      "cell_type": "markdown",
      "source": [
        "## Splitting Data and initializing dataloaders\n",
        "\n",
        "\n",
        "*   80% of the data will be used for training wheras the remaining 20% will be used for validation\n",
        "\n"
      ],
      "metadata": {
        "id": "l_N_YBQuTnR2"
      }
    },
    {
      "cell_type": "code",
      "source": [
        "X_train, X_test, y_train, y_test = train_test_split(X_data, y_data, train_size=0.8, random_state=42)\n",
        "\n",
        "X_train = torch.tensor(X_train.values).float().to(device)\n",
        "y_train = torch.tensor(y_train.values).float().unsqueeze(dim=1).to(device)\n",
        "X_test = torch.tensor(X_test.values).float().to(device)\n",
        "y_test = torch.tensor(y_test.values).float().unsqueeze(dim=1).to(device)\n",
        "\n",
        "X_data_temp = X_data.copy()\n",
        "X_data = torch.tensor(X_data.values).float().to(device)\n",
        "y_data = torch.tensor(y_data.values).float().unsqueeze(dim=1).to(device)\n",
        "\n",
        "BATCH_SIZE = 32\n",
        "torch.manual_seed(42)\n",
        "torch.cuda.manual_seed(42)\n",
        "\n",
        "X_dataloader = TensorDataset(X_data,y_data)\n",
        "X_dataloader = DataLoader(X_dataloader, batch_size=BATCH_SIZE, shuffle=False)\n",
        "\n",
        "dataset_train = TensorDataset(X_train, y_train)\n",
        "dataset_test = TensorDataset(X_test, y_test)\n",
        "\n",
        "train_dataloader = DataLoader(dataset_train, batch_size=BATCH_SIZE, shuffle=True)\n",
        "test_dataloader = DataLoader(dataset_test, batch_size=BATCH_SIZE, shuffle=False)"
      ],
      "metadata": {
        "id": "j_RaULf2_8c2"
      },
      "execution_count": 7,
      "outputs": []
    },
    {
      "cell_type": "markdown",
      "source": [
        "## Defining the functions to train and evaluate the models"
      ],
      "metadata": {
        "id": "YWKC7RQPTT_2"
      }
    },
    {
      "cell_type": "code",
      "source": [
        "def train_step(model: nn.Module,\n",
        "               data_loader: torch.utils.data.DataLoader,\n",
        "               loss_fn: torch.nn.Module,\n",
        "               optimizer: torch.optim.Optimizer,\n",
        "               device: torch.device = device):\n",
        "\n",
        "    train_loss = 0\n",
        "    model.to(device)\n",
        "\n",
        "    for batch, (X,y) in enumerate(data_loader):\n",
        "        X, y = X.to(device), y.to(device)\n",
        "        y_pred = model(X)\n",
        "        loss = loss_fn(y_pred, y)\n",
        "        train_loss += loss\n",
        "        optimizer.zero_grad()\n",
        "        loss.backward()\n",
        "        optimizer.step()\n",
        "\n",
        "    train_loss /= len(data_loader)\n",
        "\n",
        "    return train_loss"
      ],
      "metadata": {
        "id": "r9v_7wfi_RZh"
      },
      "execution_count": 8,
      "outputs": []
    },
    {
      "cell_type": "code",
      "source": [
        "def test_step(data_loader: torch.utils.data.DataLoader,\n",
        "              model: torch.nn.Module,\n",
        "              loss_fn: torch.nn.Module,\n",
        "              device: torch.device = device):\n",
        "\n",
        "    test_loss = 0\n",
        "    model.to(device)\n",
        "    model.eval()\n",
        "\n",
        "    with torch.inference_mode():\n",
        "        for X ,y in data_loader:\n",
        "            X, y = X.to(device), y.to(device)\n",
        "\n",
        "            test_pred = model(X)\n",
        "            test_loss += loss_fn(test_pred, y)\n",
        "\n",
        "        test_loss /= len(data_loader)\n",
        "        return test_loss"
      ],
      "metadata": {
        "id": "Rx1BLL6WQEVa"
      },
      "execution_count": 9,
      "outputs": []
    },
    {
      "cell_type": "code",
      "source": [
        "def eval_model(model: torch.nn.Module,\n",
        "               data_loader: torch.utils.data.dataloader,\n",
        "               loss_fn: torch.nn.Module,\n",
        "               device: torch.device = device):\n",
        "    loss = 0\n",
        "    model.eval()\n",
        "\n",
        "    with torch.inference_mode():\n",
        "        for X, y in data_loader:\n",
        "            X, y = X.to(device), y.to(device)\n",
        "            y_pred = model(X)\n",
        "            loss += loss_fn(y_pred, y)\n",
        "\n",
        "        loss /= len(data_loader)\n",
        "        loss = f\"{loss:.3f}\"\n",
        "\n",
        "        y = torch.exp(y)\n",
        "        y_pred = torch.exp(y_pred)\n",
        "\n",
        "        errors = (y_pred - y).flatten().detach().cpu().numpy()\n",
        "        mae = np.abs(errors).mean()\n",
        "        rmse = np.sqrt(((errors)**2).mean())\n",
        "\n",
        "    return {\"model_name\": model.__class__.__name__,\n",
        "            \"model_loss\": loss,\n",
        "            \"MAE\": mae,\n",
        "            \"RMSE\": rmse}"
      ],
      "metadata": {
        "id": "fqqlfL5O_WAl"
      },
      "execution_count": 10,
      "outputs": []
    },
    {
      "cell_type": "code",
      "source": [
        "def trainModel(model: torch.nn.Module,\n",
        "               train_loader: torch.utils.data.dataloader,\n",
        "               test_loader: torch.utils.data.dataloader,\n",
        "               loss_fn: torch.nn.Module,\n",
        "               optimizer: torch.optim,\n",
        "               device: torch.device = device):\n",
        "  training_loss = []\n",
        "  testing_loss = []\n",
        "  epoch_count = []\n",
        "\n",
        "  for epoch in range(epochs):\n",
        "      train_loss = train_step(data_loader=train_dataloader,\n",
        "          model=model,\n",
        "          loss_fn=loss_fn,\n",
        "          optimizer=optimizer)\n",
        "      test_loss = test_step(data_loader=test_dataloader,\n",
        "          model=model,\n",
        "          loss_fn=loss_fn)\n",
        "\n",
        "      if epoch%50 == 0:\n",
        "          print(f\"Epoch: {epoch}\\n---------\")\n",
        "          print(f\"Train loss: {train_loss:.5f}\")\n",
        "          print(f\"Test loss: {test_loss:.5f}\\n\")"
      ],
      "metadata": {
        "id": "zyF7ZND__vi-"
      },
      "execution_count": 11,
      "outputs": []
    },
    {
      "cell_type": "markdown",
      "source": [
        "## Building the models\n"
      ],
      "metadata": {
        "id": "FhgWJ8ujFAP_"
      }
    },
    {
      "cell_type": "code",
      "source": [
        "loss_fn = nn.MSELoss()      #Mean Square Error Loss\n",
        "epochs = 300"
      ],
      "metadata": {
        "id": "Hf4RPAUddhdV"
      },
      "execution_count": 12,
      "outputs": []
    },
    {
      "cell_type": "markdown",
      "source": [
        "1. The first model incudes an input layer, one hidden layer,output layer and ReLu activation function in the end."
      ],
      "metadata": {
        "id": "mXET9TovFLLq"
      }
    },
    {
      "cell_type": "code",
      "source": [
        "class LinearRegressionv0(nn.Module):\n",
        "    def __init__(self, input_shape:int, hidden_units: int, output_shape: int):\n",
        "        super().__init__()\n",
        "        self.layer_stack = nn.Sequential(nn.Linear(in_features= input_shape,\n",
        "                                                   out_features= hidden_units),\n",
        "                                         nn.Linear(in_features= hidden_units,\n",
        "                                                   out_features=hidden_units),\n",
        "                                         nn.Linear(in_features=hidden_units,\n",
        "                                                   out_features= output_shape),\n",
        "                                         nn.ReLU())\n",
        "    def forward(self, x):\n",
        "        return self.layer_stack(x)\n"
      ],
      "metadata": {
        "id": "0bqySc8p_Kf4"
      },
      "execution_count": 13,
      "outputs": []
    },
    {
      "cell_type": "code",
      "source": [
        "model_1 = LinearRegressionv0(input_shape=314, hidden_units=211, output_shape=1).to(device)\n",
        "optimizer = optim.SGD(params=model_1.parameters(), lr=0.001)  #SGD optimizer\n",
        "\n",
        "trainModel(model_1, train_dataloader, test_dataloader, loss_fn, optimizer)\n",
        "model_results = eval_model(model=model_1,\n",
        "                             data_loader=X_dataloader,\n",
        "                             loss_fn=loss_fn)\n",
        "model_results"
      ],
      "metadata": {
        "colab": {
          "base_uri": "https://localhost:8080/"
        },
        "id": "cAVOYr3oQNfI",
        "outputId": "b238aa98-57eb-4255-e294-25ed57c04dba"
      },
      "execution_count": 14,
      "outputs": [
        {
          "output_type": "stream",
          "name": "stdout",
          "text": [
            "Epoch: 0\n",
            "---------\n",
            "Train loss: 42.53319\n",
            "Test loss: 0.62074\n",
            "\n",
            "Epoch: 50\n",
            "---------\n",
            "Train loss: 0.05516\n",
            "Test loss: 0.06245\n",
            "\n",
            "Epoch: 100\n",
            "---------\n",
            "Train loss: 0.03221\n",
            "Test loss: 0.03908\n",
            "\n",
            "Epoch: 150\n",
            "---------\n",
            "Train loss: 0.02520\n",
            "Test loss: 0.03180\n",
            "\n",
            "Epoch: 200\n",
            "---------\n",
            "Train loss: 0.02163\n",
            "Test loss: 0.02747\n",
            "\n",
            "Epoch: 250\n",
            "---------\n",
            "Train loss: 0.01940\n",
            "Test loss: 0.02523\n",
            "\n"
          ]
        },
        {
          "output_type": "execute_result",
          "data": {
            "text/plain": [
              "{'model_name': 'LinearRegressionv0',\n",
              " 'model_loss': '0.019',\n",
              " 'MAE': 15312.375,\n",
              " 'RMSE': 18761.062}"
            ]
          },
          "metadata": {},
          "execution_count": 14
        }
      ]
    },
    {
      "cell_type": "markdown",
      "source": [
        "* Adding nesterov momentum to the optimizer with momentum = 0.5"
      ],
      "metadata": {
        "id": "E1GXkHSgUPY4"
      }
    },
    {
      "cell_type": "code",
      "source": [
        "model_2 = LinearRegressionv0(input_shape=314, hidden_units=211, output_shape=1).to(device)\n",
        "optimizer = optim.SGD(params=model_2.parameters(), lr=0.001 , nesterov=True, dampening=0, momentum=0.5)   #SGD optimizer\n",
        "\n",
        "trainModel(model_2, train_dataloader, test_dataloader, loss_fn, optimizer)\n",
        "model_results = eval_model(model=model_2,\n",
        "                             data_loader=X_dataloader,\n",
        "                             loss_fn=loss_fn)\n",
        "model_results"
      ],
      "metadata": {
        "colab": {
          "base_uri": "https://localhost:8080/"
        },
        "id": "H-bGZxBYSc4M",
        "outputId": "02577119-d333-4af7-9999-563c5dd1bac9"
      },
      "execution_count": 15,
      "outputs": [
        {
          "output_type": "stream",
          "name": "stdout",
          "text": [
            "Epoch: 0\n",
            "---------\n",
            "Train loss: 25.74262\n",
            "Test loss: 0.42637\n",
            "\n",
            "Epoch: 50\n",
            "---------\n",
            "Train loss: 0.03379\n",
            "Test loss: 0.04180\n",
            "\n",
            "Epoch: 100\n",
            "---------\n",
            "Train loss: 0.02289\n",
            "Test loss: 0.03143\n",
            "\n",
            "Epoch: 150\n",
            "---------\n",
            "Train loss: 0.01905\n",
            "Test loss: 0.02874\n",
            "\n",
            "Epoch: 200\n",
            "---------\n",
            "Train loss: 0.01708\n",
            "Test loss: 0.02235\n",
            "\n",
            "Epoch: 250\n",
            "---------\n",
            "Train loss: 0.01528\n",
            "Test loss: 0.02092\n",
            "\n"
          ]
        },
        {
          "output_type": "execute_result",
          "data": {
            "text/plain": [
              "{'model_name': 'LinearRegressionv0',\n",
              " 'model_loss': '0.015',\n",
              " 'MAE': 15063.396,\n",
              " 'RMSE': 19718.78}"
            ]
          },
          "metadata": {},
          "execution_count": 15
        }
      ]
    },
    {
      "cell_type": "markdown",
      "source": [
        "\n",
        "*   Changing learning rate from 0.001 to 0.003 & increasing the number of hidden units from 211 to 471 to check for any significant difference.\n",
        "\n",
        "\n",
        "\n"
      ],
      "metadata": {
        "id": "5PEC-yA-XMdr"
      }
    },
    {
      "cell_type": "code",
      "source": [
        "model_3 = LinearRegressionv0(input_shape=314, hidden_units=471, output_shape=1).to(device)\n",
        "optimizer = optim.SGD(params=model_3.parameters(), lr=0.003)  #SGD optimizer\n",
        "\n",
        "trainModel(model_3, train_dataloader, test_dataloader, loss_fn, optimizer)\n",
        "model_results = eval_model(model=model_3,\n",
        "                             data_loader=X_dataloader,\n",
        "                             loss_fn=loss_fn)\n",
        "model_results"
      ],
      "metadata": {
        "colab": {
          "base_uri": "https://localhost:8080/"
        },
        "id": "bQ9WdGt6dxib",
        "outputId": "ef217781-a128-4d47-f686-d768901e4f72"
      },
      "execution_count": 16,
      "outputs": [
        {
          "output_type": "stream",
          "name": "stdout",
          "text": [
            "Epoch: 0\n",
            "---------\n",
            "Train loss: 17.57515\n",
            "Test loss: 0.60101\n",
            "\n",
            "Epoch: 50\n",
            "---------\n",
            "Train loss: 0.02753\n",
            "Test loss: 0.03408\n",
            "\n",
            "Epoch: 100\n",
            "---------\n",
            "Train loss: 0.02127\n",
            "Test loss: 0.02593\n",
            "\n",
            "Epoch: 150\n",
            "---------\n",
            "Train loss: 0.01755\n",
            "Test loss: 0.02105\n",
            "\n",
            "Epoch: 200\n",
            "---------\n",
            "Train loss: 0.01643\n",
            "Test loss: 0.01913\n",
            "\n",
            "Epoch: 250\n",
            "---------\n",
            "Train loss: 0.01426\n",
            "Test loss: 0.01734\n",
            "\n"
          ]
        },
        {
          "output_type": "execute_result",
          "data": {
            "text/plain": [
              "{'model_name': 'LinearRegressionv0',\n",
              " 'model_loss': '0.013',\n",
              " 'MAE': 14988.611,\n",
              " 'RMSE': 18979.793}"
            ]
          },
          "metadata": {},
          "execution_count": 16
        }
      ]
    },
    {
      "cell_type": "markdown",
      "source": [
        "* Adding 2 more hidden layers to check if we can reduce the loss any further"
      ],
      "metadata": {
        "id": "YQgZpzWCbTe-"
      }
    },
    {
      "cell_type": "code",
      "source": [
        "class LinearRegressionv1(nn.Module):\n",
        "    def __init__(self, input_shape:int, hidden_units: int, output_shape: int):\n",
        "      super().__init__()\n",
        "      self.layer_stack = nn.Sequential(nn.Linear(in_features= input_shape,\n",
        "                                                   out_features= hidden_units),\n",
        "                                         nn.Linear(in_features= hidden_units,\n",
        "                                                   out_features=hidden_units),\n",
        "                                         nn.Linear(in_features= hidden_units,\n",
        "                                                   out_features=hidden_units),\n",
        "                                         nn.Linear(in_features= hidden_units,\n",
        "                                                   out_features=hidden_units),\n",
        "                                         nn.Linear(in_features=hidden_units,\n",
        "                                                   out_features= output_shape),\n",
        "                                         nn.ReLU())\n",
        "    def forward(self, x):\n",
        "      return self.layer_stack(x)"
      ],
      "metadata": {
        "id": "v18SxqeaKmNI"
      },
      "execution_count": 17,
      "outputs": []
    },
    {
      "cell_type": "code",
      "source": [
        "model_4 = LinearRegressionv1(input_shape=314, hidden_units=211, output_shape=1).to(device)\n",
        "optimizer = optim.SGD(params=model_4.parameters(), lr=0.001)  #SGD optimizer\n",
        "\n",
        "trainModel(model_4, train_dataloader, test_dataloader, loss_fn, optimizer)\n",
        "\n",
        "model_results = eval_model(model=model_4,\n",
        "                             data_loader=X_dataloader,\n",
        "                             loss_fn=loss_fn)\n",
        "model_results"
      ],
      "metadata": {
        "colab": {
          "base_uri": "https://localhost:8080/"
        },
        "id": "sreiZ3HR3HiK",
        "outputId": "1d6b020c-33d1-4a4c-cde6-6e9926c6ae15"
      },
      "execution_count": 18,
      "outputs": [
        {
          "output_type": "stream",
          "name": "stdout",
          "text": [
            "Epoch: 0\n",
            "---------\n",
            "Train loss: 144.85522\n",
            "Test loss: 144.09773\n",
            "\n",
            "Epoch: 50\n",
            "---------\n",
            "Train loss: 0.04398\n",
            "Test loss: 0.04764\n",
            "\n",
            "Epoch: 100\n",
            "---------\n",
            "Train loss: 0.02668\n",
            "Test loss: 0.03151\n",
            "\n",
            "Epoch: 150\n",
            "---------\n",
            "Train loss: 0.02075\n",
            "Test loss: 0.02508\n",
            "\n",
            "Epoch: 200\n",
            "---------\n",
            "Train loss: 0.01817\n",
            "Test loss: 0.02198\n",
            "\n",
            "Epoch: 250\n",
            "---------\n",
            "Train loss: 0.01673\n",
            "Test loss: 0.02036\n",
            "\n"
          ]
        },
        {
          "output_type": "execute_result",
          "data": {
            "text/plain": [
              "{'model_name': 'LinearRegressionv1',\n",
              " 'model_loss': '0.016',\n",
              " 'MAE': 17068.135,\n",
              " 'RMSE': 22485.846}"
            ]
          },
          "metadata": {},
          "execution_count": 18
        }
      ]
    },
    {
      "cell_type": "markdown",
      "source": [
        "## Final Submission"
      ],
      "metadata": {
        "id": "9WOPIb53bkvs"
      }
    },
    {
      "cell_type": "markdown",
      "source": [
        "* Choosing model3 as the final model we pass test.csv to get our predicted outputs.\n",
        "\n",
        "* Here it seems that the data in test.csv has some missing columns.\n",
        "We can fix this by adding a few rows and on each row we add the value that is missing on specific column"
      ],
      "metadata": {
        "id": "rCmZxgJHbxgZ"
      }
    },
    {
      "cell_type": "code",
      "source": [
        "test_data = pd.read_csv(\"test.csv\")\n",
        "\n",
        "sub_id = test_data[\"Id\"].copy()\n",
        "X_sub = cleanData(test_data)\n",
        "train_cols = X_data_temp.columns\n",
        "sub_cols = X_sub.columns\n",
        "diff = train_cols.difference(sub_cols)\n",
        "\n",
        "added_rows = 0\n",
        "idx = len(test_data)\n",
        "\n",
        "test_data_temp = test_data.copy()\n",
        "temp_row = test_data.iloc[0]\n",
        "\n",
        "for string in diff:\n",
        "    test_data_temp.append(temp_row)\n",
        "    col, value = string.split('_')\n",
        "    test_data_temp.loc[idx, col] = value\n",
        "    idx += 1\n",
        "    added_rows += 1\n",
        "\n",
        "test_data_temp = cleanData(test_data_temp)\n",
        "X_sub = test_data_temp.drop(test_data_temp.tail(added_rows).index)\n",
        "X_sub = torch.tensor(X_sub.values).float().to(device)\n",
        "\n",
        "y_sub = model_3(X_sub).squeeze()\n",
        "y_sub = torch.exp(y_sub)\n",
        "y_sub = y_sub.cpu().detach().numpy()\n",
        "submission = pd.DataFrame({\"Id\":sub_id, \"SalePrice\":y_sub})\n",
        "submission.to_csv('submission.csv', index=False)"
      ],
      "metadata": {
        "id": "YhWy7I4x4tVf"
      },
      "execution_count": 19,
      "outputs": []
    }
  ]
}